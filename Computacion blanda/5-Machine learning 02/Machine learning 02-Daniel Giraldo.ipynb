{
 "cells": [
  {
   "cell_type": "code",
   "execution_count": 23,
   "metadata": {},
   "outputs": [],
   "source": [
    "# COMPUTACIÓN BLANDA - Sistemas y Computación\n",
    "# -------------------------------------------\n",
    "# Introducción a numpy\n",
    "# -------------------------------------------\n",
    "# Lección 02\n",
    "#\n",
    "# ** Técnicas de apilamiento\n",
    "# ** División de arrays\n",
    "# ** Propiedades de arrays\n",
    "#\n",
    "# -------------------------------------------\n",
    "#  DANIEL GIRALDO MUÑOZ 1010122325"
   ]
  },
  {
   "cell_type": "code",
   "execution_count": 2,
   "metadata": {},
   "outputs": [
    {
     "name": "stdout",
     "output_type": "stream",
     "text": [
      "a =\n",
      " [[0 1 2]\n",
      " [3 4 5]\n",
      " [6 7 8]] \n",
      "\n",
      "b =\n",
      " [[ 0  2  4]\n",
      " [ 6  8 10]\n",
      " [12 14 16]]\n"
     ]
    }
   ],
   "source": [
    "# Se importa la librería numpy\n",
    "\n",
    "import numpy as np\n",
    "# APILAMIENTO\n",
    "# -----------\n",
    "# Apilado\n",
    "# Las matrices se pueden apilar horizontalmente, en profundidad o\n",
    "# verticalmente. Podemos utilizar, para ese propósito,\n",
    "# las funciones vstack, dstack, hstack, column_stack, row_stack y concatenate.\n",
    "# Para empezar, vamos a crear dos arrays\n",
    "# Matriz a\n",
    "a = np.arange(9).reshape(3,3)\n",
    "print('a =\\n', a, '\\n')\n",
    "# Matriz b, creada a partir de la matriz a\n",
    "b = a*2\n",
    "print('b =\\n', b)\n",
    "# Utilizaremos estas dos matrices para mostrar los mecanismos\n",
    "# de apilamiento disponibles"
   ]
  },
  {
   "cell_type": "code",
   "execution_count": 7,
   "metadata": {},
   "outputs": [
    {
     "name": "stdout",
     "output_type": "stream",
     "text": [
      "c =\n",
      " [[ 0.  2.  4.]\n",
      " [ 6.  8. 10.]\n",
      " [12. 14. 16.]] \n",
      "\n",
      "Apilamiento horizontal =\n",
      " [[ 0.  2.  4.  0.  1.  2.]\n",
      " [ 6.  8. 10.  3.  4.  5.]\n",
      " [12. 14. 16.  6.  7.  8.]] \n",
      "\n",
      "Apilamiento vertical =\n",
      " [[ 0  1  2]\n",
      " [ 3  4  5]\n",
      " [ 6  7  8]\n",
      " [ 0  2  4]\n",
      " [ 6  8 10]\n",
      " [12 14 16]] \n",
      "\n"
     ]
    }
   ],
   "source": [
    "#Prueba del codigo -----------------------------------------------------------\n",
    "\n",
    "c= (b*2)/2\n",
    "print('c =\\n', c, '\\n')\n",
    "\n",
    "print('Apilamiento horizontal =\\n', np.hstack((c,a)),'\\n' )\n",
    "#luego lo combinamos con a\n",
    "print( 'Apilamiento vertical =\\n', np.vstack((a,b)), '\\n' )\n"
   ]
  },
  {
   "cell_type": "code",
   "execution_count": 25,
   "metadata": {},
   "outputs": [
    {
     "name": "stdout",
     "output_type": "stream",
     "text": [
      "a =\n",
      " [[0 1 2]\n",
      " [3 4 5]\n",
      " [6 7 8]] \n",
      "\n",
      "b =\n",
      " [[ 0  2  4]\n",
      " [ 6  8 10]\n",
      " [12 14 16]] \n",
      "\n",
      "Apilamiento horizontal =\n",
      " [[ 0  1  2  0  2  4]\n",
      " [ 3  4  5  6  8 10]\n",
      " [ 6  7  8 12 14 16]]\n"
     ]
    }
   ],
   "source": [
    "# APILAMIENTO HORIZONTAL\n",
    "# Matrices origen\n",
    "print('a =\\n', a, '\\n')\n",
    "print('b =\\n', b, '\\n')\n",
    "# Apilamiento horizontal\n",
    "print('Apilamiento horizontal =\\n', np.hstack((a,b)) )"
   ]
  },
  {
   "cell_type": "code",
   "execution_count": 26,
   "metadata": {},
   "outputs": [
    {
     "name": "stdout",
     "output_type": "stream",
     "text": [
      "a =\n",
      " [[0 1 2]\n",
      " [3 4 5]\n",
      " [6 7 8]] \n",
      "\n",
      "b =\n",
      " [[ 0  2  4]\n",
      " [ 6  8 10]\n",
      " [12 14 16]] \n",
      "\n",
      "Apilamiento horizontal con concatenate = \n",
      " [[ 0  1  2  0  2  4]\n",
      " [ 3  4  5  6  8 10]\n",
      " [ 6  7  8 12 14 16]]\n"
     ]
    }
   ],
   "source": [
    "# APILAMIENTO HORIZONTAL - Variante\n",
    "# Utilización de la función: concatenate()\n",
    "# Matrices origen\n",
    "print('a =\\n', a, '\\n')\n",
    "print('b =\\n', b, '\\n')\n",
    "# Apilamiento horizontal\n",
    "print( 'Apilamiento horizontal con concatenate = \\n',\n",
    "np.concatenate((a,b), axis=1) )\n",
    "# Si axis=1, el apilamiento es horizontal"
   ]
  },
  {
   "cell_type": "code",
   "execution_count": 27,
   "metadata": {},
   "outputs": [
    {
     "name": "stdout",
     "output_type": "stream",
     "text": [
      "a =\n",
      " [[0 1 2]\n",
      " [3 4 5]\n",
      " [6 7 8]] \n",
      "\n",
      "b =\n",
      " [[ 0  2  4]\n",
      " [ 6  8 10]\n",
      " [12 14 16]] \n",
      "\n",
      "Apilamiento vertical =\n",
      " [[ 0  1  2]\n",
      " [ 3  4  5]\n",
      " [ 6  7  8]\n",
      " [ 0  2  4]\n",
      " [ 6  8 10]\n",
      " [12 14 16]]\n"
     ]
    }
   ],
   "source": [
    "# APILAMIENTO VERTICAL\n",
    "# Matrices origen\n",
    "print('a =\\n', a, '\\n')\n",
    "print('b =\\n', b, '\\n')\n",
    "# Apilamiento vertical\n",
    "print( 'Apilamiento vertical =\\n', np.vstack((a,b)) )"
   ]
  },
  {
   "cell_type": "code",
   "execution_count": 28,
   "metadata": {},
   "outputs": [
    {
     "name": "stdout",
     "output_type": "stream",
     "text": [
      "a =\n",
      " [[0 1 2]\n",
      " [3 4 5]\n",
      " [6 7 8]] \n",
      "\n",
      "b =\n",
      " [[ 0  2  4]\n",
      " [ 6  8 10]\n",
      " [12 14 16]] \n",
      "\n",
      "Apilamiento vertical con concatenate =\n",
      " [[ 0  1  2]\n",
      " [ 3  4  5]\n",
      " [ 6  7  8]\n",
      " [ 0  2  4]\n",
      " [ 6  8 10]\n",
      " [12 14 16]]\n"
     ]
    }
   ],
   "source": [
    "# APILAMIENTO VERTICAL - Variante\n",
    "\n",
    "# Utilización de la función: concatenate()\n",
    "# Matrices origen\n",
    "print('a =\\n', a, '\\n')\n",
    "print('b =\\n', b, '\\n')\n",
    "# Apilamiento vertical\n",
    "print( 'Apilamiento vertical con concatenate =\\n',\n",
    "np.concatenate((a,b), axis=0) )\n",
    "# Si axis=0, el apilamiento es vertical"
   ]
  },
  {
   "cell_type": "code",
   "execution_count": 29,
   "metadata": {},
   "outputs": [
    {
     "name": "stdout",
     "output_type": "stream",
     "text": [
      "a =\n",
      " [[0 1 2]\n",
      " [3 4 5]\n",
      " [6 7 8]] \n",
      "\n",
      "b =\n",
      " [[ 0  2  4]\n",
      " [ 6  8 10]\n",
      " [12 14 16]] \n",
      "\n",
      "Apilamiento en profundidad =\n",
      " [[[ 0  0]\n",
      "  [ 1  2]\n",
      "  [ 2  4]]\n",
      "\n",
      " [[ 3  6]\n",
      "  [ 4  8]\n",
      "  [ 5 10]]\n",
      "\n",
      " [[ 6 12]\n",
      "  [ 7 14]\n",
      "  [ 8 16]]]\n"
     ]
    }
   ],
   "source": [
    "# APILAMIENTO EN PROFUNDIDAD\n",
    "\n",
    "# En el apilamiento en profundidad, se crean bloques utilizando\n",
    "# parejas de datos tomados de las dos matrices\n",
    "# Matrices origen\n",
    "print('a =\\n', a, '\\n')\n",
    "print('b =\\n', b, '\\n')\n",
    "# Apilamiento en profundidad\n",
    "print( 'Apilamiento en profundidad =\\n', np.dstack((a,b)) )"
   ]
  },
  {
   "cell_type": "code",
   "execution_count": 30,
   "metadata": {},
   "outputs": [
    {
     "name": "stdout",
     "output_type": "stream",
     "text": [
      "a =\n",
      " [[0 1 2]\n",
      " [3 4 5]\n",
      " [6 7 8]] \n",
      "\n",
      "b =\n",
      " [[ 0  2  4]\n",
      " [ 6  8 10]\n",
      " [12 14 16]] \n",
      "\n",
      "Apilamiento por columnas =\n",
      " [[ 0  1  2  0  2  4]\n",
      " [ 3  4  5  6  8 10]\n",
      " [ 6  7  8 12 14 16]]\n"
     ]
    }
   ],
   "source": [
    "# APILAMIENTO POR COLUMNAS\n",
    "\n",
    "# El apilamiento por columnas es similar a hstack()\n",
    "# Se apilan las columnas, de izquierda a derecha, y tomándolas\n",
    "# de los bloques definidos en la matriz\n",
    "# Matrices origen\n",
    "print('a =\\n', a, '\\n')\n",
    "print('b =\\n', b, '\\n')\n",
    "# Apilamiento vertical\n",
    "print( 'Apilamiento por columnas =\\n',\n",
    "np.column_stack((a,b)) )"
   ]
  },
  {
   "cell_type": "code",
   "execution_count": 31,
   "metadata": {},
   "outputs": [
    {
     "name": "stdout",
     "output_type": "stream",
     "text": [
      "a =\n",
      " [[0 1 2]\n",
      " [3 4 5]\n",
      " [6 7 8]] \n",
      "\n",
      "b =\n",
      " [[ 0  2  4]\n",
      " [ 6  8 10]\n",
      " [12 14 16]] \n",
      "\n",
      "Apilamiento por filas =\n",
      " [[ 0  1  2]\n",
      " [ 3  4  5]\n",
      " [ 6  7  8]\n",
      " [ 0  2  4]\n",
      " [ 6  8 10]\n",
      " [12 14 16]]\n"
     ]
    }
   ],
   "source": [
    "# APILAMIENTO POR FILAS\n",
    "\n",
    "# El apilamiento por fila es similar a vstack()\n",
    "# Se apilan las filas, de arriba hacia abajo, y tomándolas\n",
    "# de los bloques definidos en la matriz\n",
    "# Matrices origen\n",
    "print('a =\\n', a, '\\n')\n",
    "print('b =\\n', b, '\\n')\n",
    "# Apilamiento vertical\n",
    "print( 'Apilamiento por filas =\\n',\n",
    "np.row_stack((a,b)) )"
   ]
  },
  {
   "cell_type": "code",
   "execution_count": 32,
   "metadata": {},
   "outputs": [],
   "source": [
    "# DIVISIÓN DE ARRAYS\n",
    "\n",
    "# Las matrices se pueden dividir vertical, horizontalmente o en profundidad.\n",
    "# Las funciones involucradas son hsplit, vsplit, dsplit y split.\n",
    "# Podemos hacer divisiones de las matrices utilizando su estructura inicial\n",
    "# o hacerlo indicando la posición después de la cual debe ocurrir la división"
   ]
  },
  {
   "cell_type": "code",
   "execution_count": 33,
   "metadata": {},
   "outputs": [
    {
     "name": "stdout",
     "output_type": "stream",
     "text": [
      "[[0 1 2]\n",
      " [3 4 5]\n",
      " [6 7 8]] \n",
      "\n",
      "Array con división horizontal =\n",
      " [array([[0],\n",
      "       [3],\n",
      "       [6]]), array([[1],\n",
      "       [4],\n",
      "       [7]]), array([[2],\n",
      "       [5],\n",
      "       [8]])] \n",
      "\n",
      "Array con división horizontal, uso de split() =\n",
      " [array([[0],\n",
      "       [3],\n",
      "       [6]]), array([[1],\n",
      "       [4],\n",
      "       [7]]), array([[2],\n",
      "       [5],\n",
      "       [8]])]\n"
     ]
    }
   ],
   "source": [
    "# DIVISIÓN HORIZONTAL\n",
    "print(a, '\\n')\n",
    "# El código resultante divide una matriz a lo largo de su eje horizontal\n",
    "# en tres piezas del mismo tamaño y forma:}\n",
    "print('Array con división horizontal =\\n', np.hsplit(a, 3), '\\n')\n",
    "# El mismo efecto se consigue con split() y utilizando una bandera a 1\n",
    "print('Array con división horizontal, uso de split() =\\n',\n",
    "np.split(a, 3, axis=1))"
   ]
  },
  {
   "cell_type": "code",
   "execution_count": 34,
   "metadata": {},
   "outputs": [
    {
     "name": "stdout",
     "output_type": "stream",
     "text": [
      "[[0 1 2]\n",
      " [3 4 5]\n",
      " [6 7 8]] \n",
      "\n",
      "División Vertical = \n",
      " [array([[0, 1, 2]]), array([[3, 4, 5]]), array([[6, 7, 8]])] \n",
      "\n",
      "Array con división vertical, uso de split() =\n",
      " [array([[0, 1, 2]]), array([[3, 4, 5]]), array([[6, 7, 8]])]\n"
     ]
    }
   ],
   "source": [
    "# DIVISIÓN VERTICAL\n",
    "print(a, '\\n')\n",
    "# La función vsplit divide el array a lo largo del eje vertical:\n",
    "print('División Vertical = \\n', np.vsplit(a, 3), '\\n')\n",
    "# El mismo efecto se consigue con split() y utilizando una bandera a 0\n",
    "print('Array con división vertical, uso de split() =\\n',\n",
    "np.split(a, 3, axis=0))"
   ]
  },
  {
   "cell_type": "code",
   "execution_count": 35,
   "metadata": {},
   "outputs": [
    {
     "name": "stdout",
     "output_type": "stream",
     "text": [
      "[[[ 0  1  2]\n",
      "  [ 3  4  5]\n",
      "  [ 6  7  8]]\n",
      "\n",
      " [[ 9 10 11]\n",
      "  [12 13 14]\n",
      "  [15 16 17]]\n",
      "\n",
      " [[18 19 20]\n",
      "  [21 22 23]\n",
      "  [24 25 26]]] \n",
      "\n",
      "División en profundidad =\n",
      " [array([[[ 0],\n",
      "        [ 3],\n",
      "        [ 6]],\n",
      "\n",
      "       [[ 9],\n",
      "        [12],\n",
      "        [15]],\n",
      "\n",
      "       [[18],\n",
      "        [21],\n",
      "        [24]]]), array([[[ 1],\n",
      "        [ 4],\n",
      "        [ 7]],\n",
      "\n",
      "       [[10],\n",
      "        [13],\n",
      "        [16]],\n",
      "\n",
      "       [[19],\n",
      "        [22],\n",
      "        [25]]]), array([[[ 2],\n",
      "        [ 5],\n",
      "        [ 8]],\n",
      "\n",
      "       [[11],\n",
      "        [14],\n",
      "        [17]],\n",
      "\n",
      "       [[20],\n",
      "        [23],\n",
      "        [26]]])] \n",
      "\n"
     ]
    }
   ],
   "source": [
    "# DIVISIÓN EN PROFUNDIDAD\n",
    "\n",
    "# La función dsplit, como era de esperarse, realiza división\n",
    "# en profundidad dentro del array\n",
    "# Para ilustrar con un ejemplo, utilizaremos una matriz de rango tres\n",
    "c = np.arange(27).reshape(3, 3, 3)\n",
    "print(c, '\\n')\n",
    "# Se realiza la división\n",
    "print('División en profundidad =\\n', np.dsplit(c,3), '\\n')"
   ]
  },
  {
   "cell_type": "code",
   "execution_count": 36,
   "metadata": {},
   "outputs": [],
   "source": [
    "# PROPIEDADES DE LOS ARRAYS"
   ]
  },
  {
   "cell_type": "code",
   "execution_count": 37,
   "metadata": {},
   "outputs": [
    {
     "name": "stdout",
     "output_type": "stream",
     "text": [
      "[[ 0  2  4]\n",
      " [ 6  8 10]\n",
      " [12 14 16]] \n",
      "\n",
      "ndim:  2\n"
     ]
    }
   ],
   "source": [
    "# El atributo ndim calcula el número de dimensiones\n",
    "\n",
    "print(b, '\\n')\n",
    "print('ndim: ', b.ndim)"
   ]
  },
  {
   "cell_type": "code",
   "execution_count": 38,
   "metadata": {},
   "outputs": [
    {
     "name": "stdout",
     "output_type": "stream",
     "text": [
      "[[ 0  2  4]\n",
      " [ 6  8 10]\n",
      " [12 14 16]] \n",
      "\n",
      "size:  9\n"
     ]
    }
   ],
   "source": [
    "# El atributo size calcula el número de elementos\n",
    "\n",
    "print(b, '\\n')\n",
    "print('size: ', b.size)"
   ]
  },
  {
   "cell_type": "code",
   "execution_count": 39,
   "metadata": {},
   "outputs": [
    {
     "name": "stdout",
     "output_type": "stream",
     "text": [
      "itemsize:  4\n"
     ]
    }
   ],
   "source": [
    "# El atributo itemsize obtiene el número de bytes por cada\n",
    "\n",
    "# elemento en el array\n",
    "print('itemsize: ', b.itemsize)"
   ]
  },
  {
   "cell_type": "code",
   "execution_count": 40,
   "metadata": {},
   "outputs": [
    {
     "name": "stdout",
     "output_type": "stream",
     "text": [
      "[[ 0  2  4]\n",
      " [ 6  8 10]\n",
      " [12 14 16]] \n",
      "\n",
      "nbytes:  36 \n",
      "\n",
      "nbytes equivalente:  36\n"
     ]
    }
   ],
   "source": [
    "# El atributo nbytes calcula el número total de bytes del array\n",
    "\n",
    "print(b, '\\n')\n",
    "print('nbytes: ', b.nbytes, '\\n')\n",
    "# Es equivalente a la siguiente operación\n",
    "print('nbytes equivalente: ', b.size * b.itemsize)"
   ]
  },
  {
   "cell_type": "code",
   "execution_count": 41,
   "metadata": {},
   "outputs": [
    {
     "name": "stdout",
     "output_type": "stream",
     "text": [
      "[[ 0  2  4  6]\n",
      " [ 8 10 12 14]\n",
      " [16  0  0  0]\n",
      " [ 0  0  0  0]\n",
      " [ 0  0  0  0]\n",
      " [ 0  0  0  0]] \n",
      "\n",
      "Transpuesta:  [[ 0  8 16  0  0  0]\n",
      " [ 2 10  0  0  0  0]\n",
      " [ 4 12  0  0  0  0]\n",
      " [ 6 14  0  0  0  0]]\n"
     ]
    }
   ],
   "source": [
    "# El atributo T tiene el mismo efecto que la transpuesta de la matriz\n",
    "\n",
    "b.resize(6,4)\n",
    "print(b, '\\n')\n",
    "print('Transpuesta: ', b.T)"
   ]
  },
  {
   "cell_type": "code",
   "execution_count": 42,
   "metadata": {},
   "outputs": [
    {
     "name": "stdout",
     "output_type": "stream",
     "text": [
      "Complejo: \n",
      " [1.+1.j 3.+2.j]\n"
     ]
    }
   ],
   "source": [
    "# Los números complejos en numpy se representan con j\n",
    "\n",
    "b = np.array([1.j + 1, 2.j + 3])\n",
    "print('Complejo: \\n', b)"
   ]
  },
  {
   "cell_type": "code",
   "execution_count": 43,
   "metadata": {},
   "outputs": [
    {
     "name": "stdout",
     "output_type": "stream",
     "text": [
      "real:  [1. 3.] \n",
      "\n",
      "imaginario:  [1. 2.]\n"
     ]
    }
   ],
   "source": [
    "# El atributo real nos da la parte real del array,\n",
    "# o el array en sí mismo si solo contiene números reales\n",
    "print('real: ', b.real, '\\n')\n",
    "# El atributo imag contiene la parte imaginaria del array\n",
    "print('imaginario: ', b.imag)"
   ]
  },
  {
   "cell_type": "code",
   "execution_count": 44,
   "metadata": {},
   "outputs": [
    {
     "name": "stdout",
     "output_type": "stream",
     "text": [
      "complex128\n"
     ]
    }
   ],
   "source": [
    "# Si el array contiene números complejos, entonces el tipo de datos\n",
    "\n",
    "# se convierte automáticamente a complejo\n",
    "print(b.dtype)"
   ]
  },
  {
   "cell_type": "code",
   "execution_count": 45,
   "metadata": {},
   "outputs": [
    {
     "name": "stdout",
     "output_type": "stream",
     "text": [
      "[[0 1]\n",
      " [2 3]] \n",
      "\n",
      "<numpy.flatiter object at 0x00000270EFABC450> \n",
      "\n",
      "0\n",
      "1\n",
      "2\n",
      "3\n",
      "\n",
      "\n",
      "Elemento 2:  2\n",
      "[[7 7]\n",
      " [7 7]] \n",
      "\n",
      "[[7 1]\n",
      " [7 1]] \n",
      "\n"
     ]
    }
   ],
   "source": [
    "# El atributo flat devuelve un objeto numpy.flatiter.\n",
    "# Esta es la única forma de adquirir un flatiter:\n",
    "# no tenemos acceso a un constructor de flatiter.\n",
    "# El apartamento El iterador nos permite recorrer una matriz\n",
    "# como si fuera una matriz plana, como se muestra a continuación:\n",
    "# En el siguiente ejemplo se clarifica este concepto\n",
    "b = np.arange(4).reshape(2,2)\n",
    "print(b, '\\n')\n",
    "f = b.flat\n",
    "print(f, '\\n')\n",
    "# Ciclo que itera a lo largo de f\n",
    "for item in f: print (item)\n",
    "# Selección de un elemento\n",
    "print('\\n')\n",
    "print('Elemento 2: ', b.flat[2])\n",
    "# Operaciones directas con flat\n",
    "b.flat = 7\n",
    "print(b, '\\n')\n",
    "b.flat[[1,3]] = 1\n",
    "print(b, '\\n')"
   ]
  }
 ],
 "metadata": {
  "kernelspec": {
   "display_name": "Python 3",
   "language": "python",
   "name": "python3"
  },
  "language_info": {
   "codemirror_mode": {
    "name": "ipython",
    "version": 3
   },
   "file_extension": ".py",
   "mimetype": "text/x-python",
   "name": "python",
   "nbconvert_exporter": "python",
   "pygments_lexer": "ipython3",
   "version": "3.7.4"
  }
 },
 "nbformat": 4,
 "nbformat_minor": 2
}
