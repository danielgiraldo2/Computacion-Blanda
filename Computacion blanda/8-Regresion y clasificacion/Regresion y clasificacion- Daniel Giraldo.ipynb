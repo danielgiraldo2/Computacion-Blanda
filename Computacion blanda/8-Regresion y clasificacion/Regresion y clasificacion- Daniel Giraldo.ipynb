{
 "cells": [
  {
   "cell_type": "code",
   "execution_count": 2,
   "metadata": {},
   "outputs": [
    {
     "name": "stdout",
     "output_type": "stream",
     "text": [
      "[[ 5.1 -2.9  3.3]\n",
      " [-1.2  7.8 -6.1]\n",
      " [ 3.9 -0.7  8.3]\n",
      " [ 7.3 -9.9 -4.5]]\n"
     ]
    }
   ],
   "source": [
    "# PROCESAMIENTO DIGITAL\n",
    "#-----------------------------------------------\n",
    "\n",
    "#DANIEL GRALDO MUÑOZ 1010122325\n",
    "\n",
    "#------------------------------------------------\n",
    "# Se importan las librería numpy y las funciones de preprocesamiento\n",
    "import numpy as np\n",
    "from sklearn import preprocessing\n",
    "# Datos de prueba \n",
    "#cambio los datos de prueba\n",
    "input_data = np.array([[5.1, -2.9, 3.3],\n",
    "[-1.2, 7.8, -6.1],\n",
    "[3.9, -0.7, 8.3],\n",
    "[7.3, -9.9, -4.5]])\n",
    "print(input_data)"
   ]
  },
  {
   "cell_type": "code",
   "execution_count": 3,
   "metadata": {},
   "outputs": [
    {
     "name": "stdout",
     "output_type": "stream",
     "text": [
      "\n",
      "Datos binarizados:\n",
      " [[1. 0. 1.]\n",
      " [0. 1. 0.]\n",
      " [1. 0. 1.]\n",
      " [1. 0. 0.]]\n"
     ]
    }
   ],
   "source": [
    "# Binarizar los datos\n",
    "\n",
    "data_binarized = preprocessing.Binarizer(threshold=2.1).transform(input_data)\n",
    "print(\"\\nDatos binarizados:\\n\", data_binarized)"
   ]
  },
  {
   "cell_type": "code",
   "execution_count": 11,
   "metadata": {},
   "outputs": [
    {
     "name": "stdout",
     "output_type": "stream",
     "text": [
      "\n",
      "ANTES:\n",
      "Media = [ 3.775 -1.15  -1.3  ]\n",
      "Desviación estándar = [3.12039661 6.36651396 4.0620192 ]\n"
     ]
    }
   ],
   "source": [
    "# Imprimir la media y la desviación estándar\n",
    "\n",
    "print(\"\\nANTES:\")\n",
    "print(\"Media =\", input_data.mean(axis=0))\n",
    "print(\"Desviación estándar =\", input_data.std(axis=0))"
   ]
  },
  {
   "cell_type": "code",
   "execution_count": 12,
   "metadata": {},
   "outputs": [
    {
     "name": "stdout",
     "output_type": "stream",
     "text": [
      "\n",
      "DESPUÉS:\n",
      "Media = [1.11022302e-16 0.00000000e+00 2.77555756e-17]\n",
      "Desviación estándar = [1. 1. 1.]\n"
     ]
    }
   ],
   "source": [
    "# Remover la media\n",
    "\n",
    "data_scaled = preprocessing.scale(input_data)\n",
    "print(\"\\nDESPUÉS:\")\n",
    "print(\"Media =\", data_scaled.mean(axis=0))\n",
    "print(\"Desviación estándar =\", data_scaled.std(axis=0))"
   ]
  },
  {
   "cell_type": "code",
   "execution_count": 13,
   "metadata": {},
   "outputs": [
    {
     "name": "stdout",
     "output_type": "stream",
     "text": [
      "\n",
      "Min max escalamiento de datos:\n",
      " [[0.74117647 0.39548023 1.        ]\n",
      " [0.         1.         0.        ]\n",
      " [0.6        0.5819209  0.87234043]\n",
      " [1.         0.         0.17021277]]\n"
     ]
    }
   ],
   "source": [
    "# Escalamiento Min Max\n",
    "\n",
    "data_scaler_minmax = preprocessing.MinMaxScaler(feature_range=(0,\n",
    "1))\n",
    "data_scaled_minmax = data_scaler_minmax.fit_transform(input_data)\n",
    "print(\"\\nMin max escalamiento de datos:\\n\", data_scaled_minmax)"
   ]
  },
  {
   "cell_type": "code",
   "execution_count": 14,
   "metadata": {},
   "outputs": [
    {
     "name": "stdout",
     "output_type": "stream",
     "text": [
      "\n",
      "L1 dato normalizado:\n",
      " [[ 0.45132743 -0.25663717  0.2920354 ]\n",
      " [-0.0794702   0.51655629 -0.40397351]\n",
      " [ 0.609375    0.0625      0.328125  ]\n",
      " [ 0.33640553 -0.4562212  -0.20737327]]\n",
      "\n",
      "L2 dato normalizado:\n",
      " [[ 0.75765788 -0.43082507  0.49024922]\n",
      " [-0.12030718  0.78199664 -0.61156148]\n",
      " [ 0.87690281  0.08993875  0.47217844]\n",
      " [ 0.55734935 -0.75585734 -0.34357152]]\n"
     ]
    }
   ],
   "source": [
    "# Normalización de datos\n",
    "\n",
    "data_normalized_l1 = preprocessing.normalize(input_data,\n",
    "norm='l1')\n",
    "data_normalized_l2 = preprocessing.normalize(input_data,\n",
    "norm='l2')\n",
    "print(\"\\nL1 dato normalizado:\\n\", data_normalized_l1)\n",
    "print(\"\\nL2 dato normalizado:\\n\", data_normalized_l2)"
   ]
  },
  {
   "cell_type": "code",
   "execution_count": 16,
   "metadata": {},
   "outputs": [
    {
     "name": "stdout",
     "output_type": "stream",
     "text": [
      "\n",
      "Mapeo de etiquetas:\n",
      "black --> 0\n",
      "green --> 1\n",
      "red --> 2\n",
      "white --> 3\n",
      "yellow --> 4\n",
      "\n",
      "Labels = ['green', 'red', 'black']\n",
      "Encoded values = [1, 2, 0]\n",
      "\n",
      "Encoded values = [3, 0, 4, 1]\n",
      "Decoded labels = ['white', 'black', 'yellow', 'green']\n"
     ]
    }
   ],
   "source": [
    "# Manejo de etiquetas\n",
    "\n",
    "import numpy as np\n",
    "from sklearn import preprocessing\n",
    "\n",
    "# Se definen algunas etiquetas simples\n",
    "input_labels = ['red', 'black', 'red', 'green', 'black', 'yellow',\n",
    "'white']\n",
    "\n",
    "# Se crea un codificador de etiquetas y se ajustan las etiquetas\n",
    "encoder = preprocessing.LabelEncoder()\n",
    "encoder.fit(input_labels)\n",
    "\n",
    "# Se imprime el mapeo entre palabras y números\n",
    "print(\"\\nMapeo de etiquetas:\")\n",
    "for i, item in enumerate(encoder.classes_):\n",
    "    print(item, '-->', i)\n",
    "\n",
    "# Codificar un conjunto de etiquetas con el codificador\n",
    "test_labels = ['green', 'red', 'black']\n",
    "encoded_values = encoder.transform(test_labels)\n",
    "print(\"\\nLabels =\", test_labels)\n",
    "print(\"Encoded values =\", list(encoded_values))\n",
    "\n",
    "# Decodificar un conjunto de valores usando el codificador\n",
    "encoded_values = [3, 0, 4, 1]\n",
    "decoded_list = encoder.inverse_transform(encoded_values)\n",
    "print(\"\\nEncoded values =\", encoded_values)\n",
    "print(\"Decoded labels =\", list(decoded_list))"
   ]
  },
  {
   "cell_type": "code",
   "execution_count": null,
   "metadata": {},
   "outputs": [],
   "source": []
  }
 ],
 "metadata": {
  "kernelspec": {
   "display_name": "Python 3",
   "language": "python",
   "name": "python3"
  },
  "language_info": {
   "codemirror_mode": {
    "name": "ipython",
    "version": 3
   },
   "file_extension": ".py",
   "mimetype": "text/x-python",
   "name": "python",
   "nbconvert_exporter": "python",
   "pygments_lexer": "ipython3",
   "version": "3.7.4"
  }
 },
 "nbformat": 4,
 "nbformat_minor": 2
}
